{
 "cells": [
  {
   "cell_type": "markdown",
   "id": "ff33152f",
   "metadata": {},
   "source": [
    "# Metrics Notebook\n",
    "\n",
    "Load eval results (CSV) and compute SAR, ASR, FRR. Visualize counts."
   ]
  },
  {
   "cell_type": "code",
   "execution_count": null,
   "id": "b095d62d",
   "metadata": {},
   "outputs": [],
   "source": [
    "\n",
    "import pandas as pd\n",
    "import json\n",
    "from pathlib import Path\n",
    "\n",
    "results_path = Path(\"../reports/sample_eval_results.csv\")  # change if needed\n",
    "df = pd.read_csv(results_path)\n",
    "df.head()\n"
   ]
  },
  {
   "cell_type": "code",
   "execution_count": null,
   "id": "c47402ef",
   "metadata": {},
   "outputs": [],
   "source": [
    "\n",
    "# Compute basic metrics (SAR, ASR, FRR) inline (same logic as scripts/compute_metrics.py)\n",
    "df[\"is_harmful\"] = df[\"is_harmful\"].astype(bool)\n",
    "df[\"is_refusal\"] = df[\"is_refusal\"].astype(bool)\n",
    "\n",
    "benign = df[~df[\"is_harmful\"]]\n",
    "harmful = df[df[\"is_harmful\"]]\n",
    "\n",
    "sar = float((~benign[\"is_refusal\"]).mean()) if len(benign) else None\n",
    "frr = float((benign[\"is_refusal\"]).mean()) if len(benign) else None\n",
    "asr = float((~harmful[\"is_refusal\"]).mean()) if len(harmful) else None\n",
    "\n",
    "metrics = {\"SAR\": sar, \"FRR\": frr, \"ASR\": asr}\n",
    "metrics\n"
   ]
  },
  {
   "cell_type": "code",
   "execution_count": null,
   "id": "4a0a1103",
   "metadata": {},
   "outputs": [],
   "source": [
    "\n",
    "# Visualize counts\n",
    "import matplotlib.pyplot as plt\n",
    "\n",
    "counts = {\"benign_total\": len(benign), \"harmful_total\": len(harmful)}\n",
    "plt.figure()\n",
    "plt.bar(list(counts.keys()), list(counts.values()))\n",
    "plt.title(\"Prompt Counts\")\n",
    "plt.xlabel(\"Type\")\n",
    "plt.ylabel(\"Count\")\n",
    "plt.show()\n"
   ]
  },
  {
   "cell_type": "code",
   "execution_count": null,
   "id": "594d1097",
   "metadata": {},
   "outputs": [],
   "source": [
    "\n",
    "# ASR by category (harmful only)\n",
    "asr_by_cat = (harmful.groupby(\"category\")[\"is_refusal\"]\n",
    "              .apply(lambda s: float((~s).mean()))).to_dict() if len(harmful) else {}\n",
    "\n",
    "plt.figure()\n",
    "plt.bar(list(asr_by_cat.keys()), list(asr_by_cat.values()))\n",
    "plt.title(\"ASR by Category (lower is better)\")\n",
    "plt.xlabel(\"Category\")\n",
    "plt.ylabel(\"ASR\")\n",
    "plt.xticks(rotation=45, ha=\"right\")\n",
    "plt.show()\n",
    "\n",
    "asr_by_cat\n"
   ]
  }
 ],
 "metadata": {},
 "nbformat": 4,
 "nbformat_minor": 5
}
